{
 "cells": [
  {
   "cell_type": "code",
   "execution_count": 1,
   "metadata": {},
   "outputs": [],
   "source": [
    "import nltk\n",
    "from nltk.corpus import brown\n",
    "from nltk.corpus import gutenberg"
   ]
  },
  {
   "cell_type": "code",
   "execution_count": 2,
   "metadata": {},
   "outputs": [],
   "source": [
    "brown_untag = brown.sents()\n",
    "guten = gutenberg.sents()"
   ]
  },
  {
   "cell_type": "code",
   "execution_count": 3,
   "metadata": {},
   "outputs": [],
   "source": [
    "from sklearn.model_selection import train_test_split\n",
    "br_untag_train, br_untag_test = train_test_split(list(brown_untag), test_size=0.2,random_state=1)\n",
    "gt_train,gt_test = train_test_split(list(guten),test_size=0.2,random_state=1)\n",
    "\n",
    "br_untag_dev, br_untag_test = train_test_split(br_untag_test, test_size=0.5,random_state=1)\n",
    "gt_dev,gt_test = train_test_split(gt_test,test_size=0.5,random_state=1)"
   ]
  },
  {
   "cell_type": "code",
   "execution_count": 4,
   "metadata": {},
   "outputs": [],
   "source": [
    "UNK = '<unk>'\n",
    "START = '<s>'\n",
    "STOP = '</s>'\n",
    "\n",
    "def unigram(train):\n",
    "    uni = []\n",
    "    unks = set()\n",
    "    for i in range(len(train)):\n",
    "        sen = [w for w in train[i] if w not in [':','/',';','|',\"''\",'``','(',')','-','--','_','\"',',']]\n",
    "        sen.insert(0,START)  \n",
    "        sen.insert(0,START)\n",
    "        sen.append(STOP)\n",
    "        uni += sen\n",
    "\n",
    "    uni_cfd = nltk.FreqDist(uni)\n",
    "\n",
    "    for word,freq in uni_cfd.items():\n",
    "        if freq == 1:\n",
    "            unks.add(word)\n",
    "\n",
    "    for word in unks:\n",
    "        del uni_cfd[word]\n",
    "\n",
    "    uni_cfd[UNK] = len(unks)\n",
    "    \n",
    "    return unks,uni_cfd"
   ]
  },
  {
   "cell_type": "code",
   "execution_count": 5,
   "metadata": {},
   "outputs": [],
   "source": [
    "def bi_and_tri(train,unks):\n",
    "    bi = []\n",
    "    tri_ls = []\n",
    "    for i in range(len(train)):\n",
    "        sen = [w if w not in unks else UNK for w in train[i] if w not in [':','/',';','|',\"''\",'``','(',')','-','--','_','\"',',']]\n",
    "        sen.insert(0,START)  \n",
    "        sen.insert(0,START)\n",
    "        sen.append(STOP)\n",
    "\n",
    "        x = nltk.bigrams(sen)\n",
    "        bi += list(x)\n",
    "\n",
    "        x = nltk.trigrams(sen)\n",
    "        tri_ls.append(list(x))\n",
    "\n",
    "    tri = []\n",
    "\n",
    "    for i in range(len(tri_ls)):\n",
    "        l = [((a,b),c) for (a,b,c) in tri_ls[i]]\n",
    "        tri += l\n",
    "\n",
    "    bi_cfd = nltk.ConditionalFreqDist(bi)\n",
    "\n",
    "    tri_cfd = nltk.ConditionalFreqDist(tri)\n",
    "    \n",
    "    return bi_cfd,tri_cfd"
   ]
  },
  {
   "cell_type": "code",
   "execution_count": 6,
   "metadata": {},
   "outputs": [],
   "source": [
    "def test_data(test,uni_cfd):\n",
    "    test_data = []\n",
    "    for i in range(len(test)):\n",
    "        sen = [w if uni_cfd[w]!=0 else UNK for w in test[i] if w not in [':','/',';','|',\"''\",'``','(',')','-','--','_','\"']]\n",
    "        sen.insert(0,START)  \n",
    "        sen.insert(0,START)\n",
    "        sen.append(STOP)\n",
    "        test_data.append(sen)\n",
    "        \n",
    "    return test_data"
   ]
  },
  {
   "cell_type": "code",
   "execution_count": null,
   "metadata": {},
   "outputs": [],
   "source": []
  },
  {
   "cell_type": "code",
   "execution_count": 8,
   "metadata": {},
   "outputs": [],
   "source": [
    "import numpy as np\n",
    "\n",
    "def calc_perp_backoff(uni_cfd,bi_cfd,tri_cfd,test):\n",
    "    total_words=0\n",
    "    prob=0\n",
    "    uni_den = sum(uni_cfd.values()) - uni_cfd[START] - uni_cfd[STOP]\n",
    "    for sen in test:\n",
    "        if(len(sen)>3):\n",
    "            w=(sen[0],sen[1])\n",
    "            for word in sen[2:-1]:\n",
    "                num = tri_cfd[w][word]\n",
    "                if(num == 0):                    \n",
    "                    num = bi_cfd[w[1]][word]\n",
    "                    num=num\n",
    "                    if(num == 0):\n",
    "                        den=uni_den\n",
    "                        num = uni_cfd[word]\n",
    "                        num=num\n",
    "                    else:\n",
    "                        den = sum(bi_cfd[w[1]].values())\n",
    "                else:\n",
    "                    den = sum(tri_cfd[w].values())                    \n",
    "                        \n",
    "                p=num/den \n",
    "                prob+=np.log(p)\n",
    "                w=(w[1],word)\n",
    "                total_words+=1\n",
    "\n",
    "    prob = (-1*prob)/total_words\n",
    "    return np.exp(prob)"
   ]
  },
  {
   "cell_type": "code",
   "execution_count": null,
   "metadata": {},
   "outputs": [],
   "source": []
  },
  {
   "cell_type": "code",
   "execution_count": 9,
   "metadata": {},
   "outputs": [],
   "source": [
    "br_unks,br_uni_cfd = unigram(br_untag_train)\n",
    "\n",
    "br_bi_cfd,br_tri_cfd = bi_and_tri(br_untag_train,br_unks)\n",
    "\n",
    "br_test = test_data(br_untag_test,br_uni_cfd)\n",
    "\n",
    "gt_unks,gt_uni_cfd = unigram(gt_train)\n",
    "\n",
    "gt_bi_cfd,gt_tri_cfd = bi_and_tri(gt_train,gt_unks)\n",
    "\n",
    "gt_test = test_data(gt_test,gt_uni_cfd)"
   ]
  },
  {
   "cell_type": "code",
   "execution_count": 50,
   "metadata": {},
   "outputs": [
    {
     "name": "stdout",
     "output_type": "stream",
     "text": [
      "194.9578058861574\n"
     ]
    }
   ],
   "source": [
    "# BROWN TRAIN AND BROWN TEST\n",
    "br_perp1 = calc_perp_backoff(br_uni_cfd,br_bi_cfd,br_tri_cfd,br_test)\n",
    "print(br_perp1)"
   ]
  },
  {
   "cell_type": "code",
   "execution_count": 51,
   "metadata": {},
   "outputs": [
    {
     "name": "stdout",
     "output_type": "stream",
     "text": [
      "125.73062672693864\n"
     ]
    }
   ],
   "source": [
    "# GUTENBERG TRAIN AND GUTENBERG TEST\n",
    "gt_perp1 = calc_perp_backoff(gt_uni_cfd,gt_bi_cfd,gt_tri_cfd,gt_test)\n",
    "print(gt_perp1)"
   ]
  },
  {
   "cell_type": "code",
   "execution_count": 10,
   "metadata": {},
   "outputs": [],
   "source": [
    "# BROWN TRAIN + GUTENBERG TRAIN\n",
    "comb_train = br_untag_train + gt_train\n",
    "comb_test = br_untag_test + gt_test\n",
    "comb_dev = br_untag_dev + gt_dev\n",
    "\n",
    "comb_unks,comb_uni_cfd = unigram(comb_train)\n",
    "\n",
    "comb_bi_cfd,comb_tri_cfd = bi_and_tri(comb_train,comb_unks)\n",
    "\n",
    "comb_test = test_data(comb_test,comb_uni_cfd)"
   ]
  },
  {
   "cell_type": "code",
   "execution_count": 52,
   "metadata": {},
   "outputs": [
    {
     "name": "stdout",
     "output_type": "stream",
     "text": [
      "243.87237380139763\n"
     ]
    }
   ],
   "source": [
    "# COMBINE TRAIN & BROWN TEST\n",
    "comb_perp_br1 = calc_perp_backoff(comb_uni_cfd,comb_bi_cfd,comb_tri_cfd,br_test)\n",
    "print(comb_perp_br1)"
   ]
  },
  {
   "cell_type": "code",
   "execution_count": 56,
   "metadata": {},
   "outputs": [
    {
     "name": "stdout",
     "output_type": "stream",
     "text": [
      "131.91274723801297\n"
     ]
    }
   ],
   "source": [
    "# COMBINE TRAIN &  GUTENBERG TEST\n",
    "comb_perp_gt1 = calc_perp_backoff(comb_uni_cfd,comb_bi_cfd,comb_tri_cfd,gt_test)\n",
    "print(comb_perp_gt1)"
   ]
  },
  {
   "cell_type": "markdown",
   "metadata": {},
   "source": [
    "## Interpolate"
   ]
  },
  {
   "cell_type": "code",
   "execution_count": 54,
   "metadata": {},
   "outputs": [],
   "source": [
    "def find_hyper(uni_cfd,bi_cfd,tri_cfd,test):\n",
    "    l = 0\n",
    "    p = 10000 \n",
    "    blam1=0.3\n",
    "    blam2=0.3\n",
    "    blam3=0.4\n",
    "    for lam1 in [0.1,0.3,0.5]:\n",
    "        for lam2 in [0.1,0.3,0.5]:\n",
    "            l= 1-lam1-lam2\n",
    "            if(l>0):\n",
    "                perp = cal_perp_interpolate(uni_cfd,bi_cfd,tri_cfd,test,lam1,lam2,l)\n",
    "                if(perp<p):\n",
    "                    p=perp\n",
    "                    blam1 = lam1\n",
    "                    blam2 = lam2\n",
    "                    blam3 = l\n",
    "                    \n",
    "    return blam1,blam2,blam3"
   ]
  },
  {
   "cell_type": "code",
   "execution_count": 30,
   "metadata": {},
   "outputs": [],
   "source": [
    "def cal_perp_interpolate(uni_cfd,bi_cfd,tri_cfd,test,lam1,lam2,lam3):\n",
    "    total_words=0\n",
    "    prob=0\n",
    "    uni_den = sum(uni_cfd.values()) - uni_cfd[START] - uni_cfd[STOP]\n",
    "    for sen in test:\n",
    "        if(len(sen)>3):\n",
    "            w=(sen[0],sen[1])\n",
    "            for word in sen[2:-1]:\n",
    "                num_tri = tri_cfd[w][word]                    \n",
    "                num_bi = bi_cfd[w[1]][word]\n",
    "                num_uni = uni_cfd[word]\n",
    "                \n",
    "                den_tri = sum(bi_cfd[w[1]].values())\n",
    "                den_bi = sum(tri_cfd[w].values())\n",
    "                \n",
    "                if(den_tri==0):\n",
    "                    p1=0\n",
    "                else:\n",
    "                    p1=num_tri/den_tri\n",
    "                if(den_bi==0):\n",
    "                    p2=0\n",
    "                else:\n",
    "                    p2=num_bi/den_bi\n",
    "                    \n",
    "                p3=num_uni/uni_den\n",
    "                p=lam1*(p1) + lam2*(p2) +lam3*(p3)\n",
    "                \n",
    "                prob+=np.log(p)\n",
    "                w=(w[1],word)\n",
    "                total_words+=1\n",
    "\n",
    "    prob = (-1*prob)/total_words\n",
    "    return np.exp(prob)"
   ]
  },
  {
   "cell_type": "code",
   "execution_count": 35,
   "metadata": {},
   "outputs": [],
   "source": [
    "br_untag_dev = test_data(br_untag_dev,br_uni_cfd)\n",
    "gt_dev = test_data(gt_dev,gt_uni_cfd)\n",
    "comb_dev = test_data(comb_dev,comb_uni_cfd)"
   ]
  },
  {
   "cell_type": "code",
   "execution_count": 32,
   "metadata": {},
   "outputs": [
    {
     "name": "stdout",
     "output_type": "stream",
     "text": [
      "0.1 0.5 0.4\n"
     ]
    }
   ],
   "source": [
    "# BROWN TRAIN HYPERPARAMETER\n",
    "lam1,lam2,lam3 = find_hyper(br_uni_cfd,br_bi_cfd,br_tri_cfd,br_untag_dev)\n",
    "print(lam1,lam2,lam3)"
   ]
  },
  {
   "cell_type": "code",
   "execution_count": 33,
   "metadata": {},
   "outputs": [
    {
     "name": "stdout",
     "output_type": "stream",
     "text": [
      "68.59357867409265\n"
     ]
    }
   ],
   "source": [
    "# BROWN TRAIN AND BROWN TEST\n",
    "br_perp = cal_perp_interpolate(br_uni_cfd,br_bi_cfd,br_tri_cfd,br_test,lam1,lam2,lam3)\n",
    "print(br_perp)"
   ]
  },
  {
   "cell_type": "code",
   "execution_count": 44,
   "metadata": {},
   "outputs": [
    {
     "name": "stdout",
     "output_type": "stream",
     "text": [
      "0.3 0.3 0.4\n"
     ]
    }
   ],
   "source": [
    "#GUTENBERG TRAIN HYPERPARAMETER\n",
    "lam1,lam2,lam3 = find_hyper(br_uni_cfd,br_bi_cfd,br_tri_cfd,gt_dev)\n",
    "print(lam1,lam2,lam3)"
   ]
  },
  {
   "cell_type": "code",
   "execution_count": 40,
   "metadata": {},
   "outputs": [
    {
     "name": "stdout",
     "output_type": "stream",
     "text": [
      "30.418774718135257\n"
     ]
    }
   ],
   "source": [
    "# GUTENBERG TRAIN AND GUTENBERG TEST\n",
    "gt_perp = cal_perp_interpolate(gt_uni_cfd,gt_bi_cfd,gt_tri_cfd,gt_test,lam1,lam2,lam3)\n",
    "print(gt_perp)"
   ]
  },
  {
   "cell_type": "code",
   "execution_count": 45,
   "metadata": {},
   "outputs": [
    {
     "name": "stdout",
     "output_type": "stream",
     "text": [
      "0.3 0.3 0.4\n"
     ]
    }
   ],
   "source": [
    "#COMBINE TRAIN HYPERPARAMETER\n",
    "lam1,lam2,lam3 = find_hyper(br_uni_cfd,br_bi_cfd,br_tri_cfd,comb_dev)\n",
    "print(lam1,lam2,lam3)"
   ]
  },
  {
   "cell_type": "code",
   "execution_count": 47,
   "metadata": {},
   "outputs": [
    {
     "name": "stdout",
     "output_type": "stream",
     "text": [
      "71.51242226238872\n"
     ]
    }
   ],
   "source": [
    "# COMBINE TRAIN & BROWN TEST\n",
    "comb_perp_br = cal_perp_interpolate(comb_uni_cfd,comb_bi_cfd,comb_tri_cfd,br_test,lam1,lam2,lam3)\n",
    "print(comb_perp_br)"
   ]
  },
  {
   "cell_type": "code",
   "execution_count": 67,
   "metadata": {},
   "outputs": [
    {
     "name": "stdout",
     "output_type": "stream",
     "text": [
      "26.5244860786558\n"
     ]
    }
   ],
   "source": [
    "# COMBINE TRAIN & GUTENBERG TEST\n",
    "comb_perp_gt = cal_perp_interpolate(comb_uni_cfd,comb_bi_cfd,comb_tri_cfd,gt_test,lam1,lam2,lam3)\n",
    "print(comb_perp_gt)"
   ]
  },
  {
   "cell_type": "code",
   "execution_count": null,
   "metadata": {},
   "outputs": [],
   "source": []
  },
  {
   "cell_type": "code",
   "execution_count": 89,
   "metadata": {},
   "outputs": [
    {
     "data": {
      "image/png": "[encoded data removed]",
      "text/plain": [
       "<matplotlib.figure.Figure at 0x7f1a171545c0>"
      ]
     },
     "metadata": {},
     "output_type": "display_data"
    }
   ],
   "source": [
    "import matplotlib.pyplot as plt\n",
    "\n",
    "y1 = [br_perp1,gt_perp1,comb_perp_br1,comb_perp_gt1]\n",
    "y2 = [br_perp,gt_perp,comb_perp_br,comb_perp_gt]\n",
    "x = ['S1','S2','S3','S4']\n",
    "\n",
    "plt.figure(figsize=(8,5))\n",
    "plt.plot(x,y1,label='Stupid backoff')\n",
    "plt.plot(x,y2,label='Intepolation')\n",
    "plt.xlabel('DATASET')\n",
    "plt.ylabel('PERPLEXITY')\n",
    "plt.title('Different model & perplexity')\n",
    "legend = plt.legend(loc='upper right', shadow=True)\n",
    "plt.show()"
   ]
  },
  {
   "cell_type": "code",
   "execution_count": null,
   "metadata": {},
   "outputs": [],
   "source": []
  }
 ],
 "metadata": {
  "kernelspec": {
   "display_name": "Python 3",
   "language": "python",
   "name": "python3"
  },
  "language_info": {
   "codemirror_mode": {
    "name": "ipython",
    "version": 3
   },
   "file_extension": ".py",
   "mimetype": "text/x-python",
   "name": "python",
   "nbconvert_exporter": "python",
   "pygments_lexer": "ipython3",
   "version": "3.5.2"
  }
 },
 "nbformat": 4,
 "nbformat_minor": 2
}
