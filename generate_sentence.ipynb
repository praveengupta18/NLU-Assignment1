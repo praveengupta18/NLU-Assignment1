{
 "cells": [
  {
   "cell_type": "code",
   "execution_count": 1,
   "metadata": {},
   "outputs": [],
   "source": [
    "import nltk\n",
    "from nltk.corpus import gutenberg"
   ]
  },
  {
   "cell_type": "code",
   "execution_count": 2,
   "metadata": {},
   "outputs": [],
   "source": [
    "guten = gutenberg.sents()"
   ]
  },
  {
   "cell_type": "code",
   "execution_count": 3,
   "metadata": {},
   "outputs": [],
   "source": [
    "gt=list(guten)"
   ]
  },
  {
   "cell_type": "code",
   "execution_count": 54,
   "metadata": {},
   "outputs": [],
   "source": [
    "UNK = '<unk>'\n",
    "START = '<s>'\n",
    "STOP = '</s>'\n",
    "\n",
    "def unigram(train):\n",
    "    uni = []\n",
    "    unks = set()\n",
    "    for i in range(len(train)):\n",
    "        sen = [w for w in train[i] if w not in [':','/',';','|',\"''\",'``','(',')','-','--','_','\"',',','?']]\n",
    "        sen.insert(0,START)  \n",
    "        sen.insert(0,START)\n",
    "        sen.append(STOP)\n",
    "        uni += sen\n",
    "\n",
    "    uni_cfd = nltk.FreqDist(uni)\n",
    "\n",
    "    for word,freq in uni_cfd.items():\n",
    "        if freq == 1:\n",
    "            unks.add(word)\n",
    "\n",
    "    for word in unks:\n",
    "        del uni_cfd[word]\n",
    "\n",
    "    uni_cfd[UNK] = len(unks)\n",
    "    \n",
    "    return unks,uni_cfd"
   ]
  },
  {
   "cell_type": "code",
   "execution_count": 55,
   "metadata": {},
   "outputs": [],
   "source": [
    "def bi_and_tri(train,unks):\n",
    "    bi = []\n",
    "    tri_ls = []\n",
    "    for i in range(len(train)):\n",
    "        sen = [w if w not in unks else UNK for w in train[i] if w not in ['?',':','/',';','|',\"''\",'``','(',')','-','--','_','\"',',']]\n",
    "        sen.insert(0,START)  \n",
    "        sen.insert(0,START)\n",
    "        sen.append(STOP)\n",
    "\n",
    "        x = nltk.bigrams(sen)\n",
    "        bi += list(x)\n",
    "\n",
    "        x = nltk.trigrams(sen)\n",
    "        tri_ls.append(list(x))\n",
    "\n",
    "    tri = []\n",
    "\n",
    "    for i in range(len(tri_ls)):\n",
    "        l = [((a,b),c) for (a,b,c) in tri_ls[i]]\n",
    "        tri += l\n",
    "\n",
    "    bi_cfd = nltk.ConditionalFreqDist(bi)\n",
    "    \n",
    "    tri_cfd = nltk.ConditionalFreqDist(tri)\n",
    "    \n",
    "    return bi_cfd,tri_cfd"
   ]
  },
  {
   "cell_type": "code",
   "execution_count": 56,
   "metadata": {},
   "outputs": [],
   "source": [
    "gt_unks,gt_uni_cfd = unigram(gt)\n",
    "gt_bi_cfd,gt_tri_cfd = bi_and_tri(gt,gt_unks)"
   ]
  },
  {
   "cell_type": "code",
   "execution_count": 78,
   "metadata": {},
   "outputs": [],
   "source": [
    "from random import randrange\n",
    "\n",
    "def generate_model(unks, uni_cfd, bi_cfd, tri_cfd, word, lenght=10):\n",
    "    count=0\n",
    "    prnt=True\n",
    "    unks=list(unks)\n",
    "    while(count<lenght):\n",
    "        if(word[1]!=START and word[1]!=STOP and prnt):\n",
    "            print(word[1], end=' ')\n",
    "            count+=1\n",
    "        \n",
    "        if(word[1]==STOP):\n",
    "            word=(START,START)\n",
    "            \n",
    "        num = min(3,len(tri_cfd[word]))\n",
    "        x = randrange(num)\n",
    "        word1 = tri_cfd[word].most_common()[x][0]\n",
    "        \n",
    "        if(word1==UNK and num==1):\n",
    "            num = min(3,len(bi_cfd[word[1]]))\n",
    "            x = randrange(num)\n",
    "            word1 = bi_cfd[word[1]].most_common()[x][0]\n",
    "    \n",
    "            if(word1==UNK and num==1):\n",
    "                num=min(200,len(nui_cfd))\n",
    "                x=randrange(30,num)\n",
    "                word1=uni_cfd.most_common()[x]\n",
    "            \n",
    "        if(word1!=UNK):\n",
    "            word = (word[1],word1)\n",
    "            prnt=True\n",
    "            \n",
    "        if(word1==UNK):\n",
    "            prnt=False"
   ]
  },
  {
   "cell_type": "code",
   "execution_count": 90,
   "metadata": {},
   "outputs": [
    {
     "name": "stdout",
     "output_type": "stream",
     "text": [
      "I have been the effect of time . The little "
     ]
    }
   ],
   "source": [
    "generate_model(gt_unks,gt_uni_cfd,gt_bi_cfd,gt_tri_cfd,(START,START))"
   ]
  },
  {
   "cell_type": "code",
   "execution_count": null,
   "metadata": {},
   "outputs": [],
   "source": []
  },
  {
   "cell_type": "code",
   "execution_count": null,
   "metadata": {},
   "outputs": [],
   "source": []
  }
 ],
 "metadata": {
  "kernelspec": {
   "display_name": "Python 3",
   "language": "python",
   "name": "python3"
  },
  "language_info": {
   "codemirror_mode": {
    "name": "ipython",
    "version": 3
   },
   "file_extension": ".py",
   "mimetype": "text/x-python",
   "name": "python",
   "nbconvert_exporter": "python",
   "pygments_lexer": "ipython3",
   "version": "3.5.2"
  }
 },
 "nbformat": 4,
 "nbformat_minor": 2
}
